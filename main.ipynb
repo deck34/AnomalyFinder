{
 "cells": [
  {
   "cell_type": "code",
   "execution_count": null,
   "metadata": {
    "collapsed": false,
    "deletable": true,
    "editable": true,
    "slideshow": {
     "slide_type": "-"
    }
   },
   "outputs": [],
   "source": [
    "import pandas as pd\n",
    "import visualize as vz\n",
    "import workwithdata as wd\n",
    "\n",
    "\n",
    "if __name__ == '__main__':\n",
    "    teacher = pd.read_csv(\"data\\Building0teacher.csv\", ';', nrows = 671)\n",
    "    teacher = wd.correctdata(teacher)\n",
    "\n",
    "    vz.visualize(teacher)\n"
   ]
  }
 ],
 "metadata": {
  "kernelspec": {
   "display_name": "Python 3",
   "language": "python",
   "name": "python3"
  },
  "language_info": {
   "codemirror_mode": {
    "name": "ipython",
    "version": 3
   },
   "file_extension": ".py",
   "mimetype": "text/x-python",
   "name": "python",
   "nbconvert_exporter": "python",
   "pygments_lexer": "ipython3",
   "version": "3.5.2"
  }
 },
 "nbformat": 4,
 "nbformat_minor": 0
}
